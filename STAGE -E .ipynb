{
 "cells": [
  {
   "cell_type": "code",
   "execution_count": 1,
   "metadata": {},
   "outputs": [],
   "source": [
    "import pandas as pd\n",
    "import numpy as np\n",
    "df=pd.read_csv(r\"C:\\Users\\HP\\Documents\\Python Scripts\\household_power_consumption\\household_power_consumption.txt\",sep=';',  low_memory=False,\n",
    "              na_values=['nan', '?'], parse_dates = {'Datetime': [0 , 1]}, infer_datetime_format=True)"
   ]
  },
  {
   "cell_type": "code",
   "execution_count": 2,
   "metadata": {},
   "outputs": [],
   "source": [
    "df.set_index('Datetime', inplace=True)"
   ]
  },
  {
   "cell_type": "code",
   "execution_count": 3,
   "metadata": {},
   "outputs": [],
   "source": [
    "df_daily= df.resample('D').sum()"
   ]
  },
  {
   "cell_type": "code",
   "execution_count": 4,
   "metadata": {},
   "outputs": [],
   "source": [
    "df_daily['Global_active_power'].fillna(df_daily['Global_active_power'].mean(), inplace=True)"
   ]
  },
  {
   "cell_type": "code",
   "execution_count": 5,
   "metadata": {},
   "outputs": [],
   "source": [
    "df_daily['Global_reactive_power'].fillna(df_daily['Global_reactive_power'].mean(), inplace=True)\n",
    "df_daily['Voltage'].fillna(df_daily['Voltage'].mean(), inplace=True)\n",
    "df_daily['Global_intensity'].fillna(df_daily['Global_intensity'].mean(), inplace=True)\n",
    "df_daily['Sub_metering_1'].fillna(df_daily['Sub_metering_1'].mean(), inplace=True)\n",
    "df_daily['Sub_metering_2'].fillna(df_daily['Sub_metering_2'].mean(), inplace=True)\n",
    "df_daily['Sub_metering_3'].fillna(df_daily['Sub_metering_3'].mean(), inplace=True)"
   ]
  },
  {
   "cell_type": "code",
   "execution_count": 6,
   "metadata": {},
   "outputs": [
    {
     "data": {
      "text/plain": [
       "Index(['Global_active_power', 'Global_reactive_power', 'Voltage',\n",
       "       'Global_intensity', 'Sub_metering_1', 'Sub_metering_2',\n",
       "       'Sub_metering_3'],\n",
       "      dtype='object')"
      ]
     },
     "execution_count": 6,
     "metadata": {},
     "output_type": "execute_result"
    }
   ],
   "source": [
    "df_daily.columns"
   ]
  },
  {
   "cell_type": "code",
   "execution_count": 7,
   "metadata": {},
   "outputs": [
    {
     "data": {
      "text/plain": [
       "Global_active_power      0\n",
       "Global_reactive_power    0\n",
       "Voltage                  0\n",
       "Global_intensity         0\n",
       "Sub_metering_1           0\n",
       "Sub_metering_2           0\n",
       "Sub_metering_3           0\n",
       "dtype: int64"
      ]
     },
     "execution_count": 7,
     "metadata": {},
     "output_type": "execute_result"
    }
   ],
   "source": [
    "df_daily.isna().sum()"
   ]
  },
  {
   "cell_type": "code",
   "execution_count": 8,
   "metadata": {},
   "outputs": [],
   "source": [
    "import matplotlib.pyplot as plt"
   ]
  },
  {
   "cell_type": "code",
   "execution_count": 9,
   "metadata": {},
   "outputs": [
    {
     "data": {
      "text/plain": [
       "<AxesSubplot:xlabel='Datetime'>"
      ]
     },
     "execution_count": 9,
     "metadata": {},
     "output_type": "execute_result"
    },
    {
     "data": {
      "image/png": "[encoded data removed]",
      "text/plain": [
       "<Figure size 432x288 with 1 Axes>"
      ]
     },
     "metadata": {
      "needs_background": "light"
     },
     "output_type": "display_data"
    }
   ],
   "source": [
    "df_daily['Global_active_power'].plot()"
   ]
  },
  {
   "cell_type": "code",
   "execution_count": 10,
   "metadata": {},
   "outputs": [],
   "source": [
    "GLAP = df['Global_active_power']\n",
    "GLRP = df['Global_reactive_power']"
   ]
  },
  {
   "cell_type": "code",
   "execution_count": 11,
   "metadata": {},
   "outputs": [],
   "source": [
    "CORR=GLAP.corr(GLRP).round(2)"
   ]
  },
  {
   "cell_type": "code",
   "execution_count": 12,
   "metadata": {},
   "outputs": [
    {
     "data": {
      "text/plain": [
       "0.25"
      ]
     },
     "execution_count": 12,
     "metadata": {},
     "output_type": "execute_result"
    }
   ],
   "source": [
    "CORR"
   ]
  },
  {
   "cell_type": "code",
   "execution_count": 13,
   "metadata": {},
   "outputs": [],
   "source": [
    "V = df['Voltage']\n",
    "GI = df['Global_intensity']"
   ]
  },
  {
   "cell_type": "code",
   "execution_count": 14,
   "metadata": {},
   "outputs": [],
   "source": [
    "CORR2=V.corr(GI).round(2)"
   ]
  },
  {
   "cell_type": "code",
   "execution_count": 15,
   "metadata": {},
   "outputs": [
    {
     "data": {
      "text/plain": [
       "-0.41"
      ]
     },
     "execution_count": 15,
     "metadata": {},
     "output_type": "execute_result"
    }
   ],
   "source": [
    "CORR2"
   ]
  },
  {
   "cell_type": "code",
   "execution_count": 16,
   "metadata": {},
   "outputs": [],
   "source": [
    "GLAP = df_daily['Global_active_power']\n",
    "GLRP = df_daily['Global_reactive_power']"
   ]
  },
  {
   "cell_type": "code",
   "execution_count": 17,
   "metadata": {},
   "outputs": [
    {
     "data": {
      "text/plain": [
       "0.13"
      ]
     },
     "execution_count": 17,
     "metadata": {},
     "output_type": "execute_result"
    }
   ],
   "source": [
    "CORR=GLAP.corr(GLRP).round(2)\n",
    "CORR"
   ]
  },
  {
   "cell_type": "code",
   "execution_count": 18,
   "metadata": {},
   "outputs": [],
   "source": [
    "V = df_daily['Voltage']\n",
    "GI = df_daily['Global_intensity']"
   ]
  },
  {
   "cell_type": "code",
   "execution_count": 19,
   "metadata": {},
   "outputs": [
    {
     "data": {
      "text/plain": [
       "0.27"
      ]
     },
     "execution_count": 19,
     "metadata": {},
     "output_type": "execute_result"
    }
   ],
   "source": [
    "CORR=V.corr(GI).round(2)\n",
    "CORR"
   ]
  },
  {
   "cell_type": "code",
   "execution_count": 20,
   "metadata": {},
   "outputs": [
    {
     "data": {
      "text/html": [
       "<div>\n",
       "<style scoped>\n",
       "    .dataframe tbody tr th:only-of-type {\n",
       "        vertical-align: middle;\n",
       "    }\n",
       "\n",
       "    .dataframe tbody tr th {\n",
       "        vertical-align: top;\n",
       "    }\n",
       "\n",
       "    .dataframe thead th {\n",
       "        text-align: right;\n",
       "    }\n",
       "</style>\n",
       "<table border=\"1\" class=\"dataframe\">\n",
       "  <thead>\n",
       "    <tr style=\"text-align: right;\">\n",
       "      <th></th>\n",
       "      <th>Global_active_power</th>\n",
       "      <th>Global_reactive_power</th>\n",
       "      <th>Voltage</th>\n",
       "      <th>Global_intensity</th>\n",
       "      <th>Sub_metering_1</th>\n",
       "      <th>Sub_metering_2</th>\n",
       "      <th>Sub_metering_3</th>\n",
       "    </tr>\n",
       "    <tr>\n",
       "      <th>Datetime</th>\n",
       "      <th></th>\n",
       "      <th></th>\n",
       "      <th></th>\n",
       "      <th></th>\n",
       "      <th></th>\n",
       "      <th></th>\n",
       "      <th></th>\n",
       "    </tr>\n",
       "  </thead>\n",
       "  <tbody>\n",
       "    <tr>\n",
       "      <th>2006-12-16</th>\n",
       "      <td>1209.176</td>\n",
       "      <td>34.922</td>\n",
       "      <td>93552.53</td>\n",
       "      <td>5180.8</td>\n",
       "      <td>0.0</td>\n",
       "      <td>546.0</td>\n",
       "      <td>4926.0</td>\n",
       "    </tr>\n",
       "    <tr>\n",
       "      <th>2006-12-17</th>\n",
       "      <td>3390.460</td>\n",
       "      <td>226.006</td>\n",
       "      <td>345725.32</td>\n",
       "      <td>14398.6</td>\n",
       "      <td>2033.0</td>\n",
       "      <td>4187.0</td>\n",
       "      <td>13341.0</td>\n",
       "    </tr>\n",
       "    <tr>\n",
       "      <th>2006-12-18</th>\n",
       "      <td>2203.826</td>\n",
       "      <td>161.792</td>\n",
       "      <td>347373.64</td>\n",
       "      <td>9247.2</td>\n",
       "      <td>1063.0</td>\n",
       "      <td>2621.0</td>\n",
       "      <td>14018.0</td>\n",
       "    </tr>\n",
       "    <tr>\n",
       "      <th>2006-12-19</th>\n",
       "      <td>1666.194</td>\n",
       "      <td>150.942</td>\n",
       "      <td>348479.01</td>\n",
       "      <td>7094.0</td>\n",
       "      <td>839.0</td>\n",
       "      <td>7602.0</td>\n",
       "      <td>6197.0</td>\n",
       "    </tr>\n",
       "    <tr>\n",
       "      <th>2006-12-20</th>\n",
       "      <td>2225.748</td>\n",
       "      <td>160.998</td>\n",
       "      <td>348923.61</td>\n",
       "      <td>9313.0</td>\n",
       "      <td>0.0</td>\n",
       "      <td>2648.0</td>\n",
       "      <td>14063.0</td>\n",
       "    </tr>\n",
       "  </tbody>\n",
       "</table>\n",
       "</div>"
      ],
      "text/plain": [
       "            Global_active_power  Global_reactive_power    Voltage  \\\n",
       "Datetime                                                            \n",
       "2006-12-16             1209.176                 34.922   93552.53   \n",
       "2006-12-17             3390.460                226.006  345725.32   \n",
       "2006-12-18             2203.826                161.792  347373.64   \n",
       "2006-12-19             1666.194                150.942  348479.01   \n",
       "2006-12-20             2225.748                160.998  348923.61   \n",
       "\n",
       "            Global_intensity  Sub_metering_1  Sub_metering_2  Sub_metering_3  \n",
       "Datetime                                                                      \n",
       "2006-12-16            5180.8             0.0           546.0          4926.0  \n",
       "2006-12-17           14398.6          2033.0          4187.0         13341.0  \n",
       "2006-12-18            9247.2          1063.0          2621.0         14018.0  \n",
       "2006-12-19            7094.0           839.0          7602.0          6197.0  \n",
       "2006-12-20            9313.0             0.0          2648.0         14063.0  "
      ]
     },
     "execution_count": 20,
     "metadata": {},
     "output_type": "execute_result"
    }
   ],
   "source": [
    "df_daily.head()"
   ]
  },
  {
   "cell_type": "code",
   "execution_count": 21,
   "metadata": {},
   "outputs": [
    {
     "data": {
      "text/html": [
       "<div>\n",
       "<style scoped>\n",
       "    .dataframe tbody tr th:only-of-type {\n",
       "        vertical-align: middle;\n",
       "    }\n",
       "\n",
       "    .dataframe tbody tr th {\n",
       "        vertical-align: top;\n",
       "    }\n",
       "\n",
       "    .dataframe thead th {\n",
       "        text-align: right;\n",
       "    }\n",
       "</style>\n",
       "<table border=\"1\" class=\"dataframe\">\n",
       "  <thead>\n",
       "    <tr style=\"text-align: right;\">\n",
       "      <th></th>\n",
       "      <th>Datetime</th>\n",
       "      <th>Global_active_power</th>\n",
       "      <th>Global_reactive_power</th>\n",
       "      <th>Voltage</th>\n",
       "      <th>Global_intensity</th>\n",
       "      <th>Sub_metering_1</th>\n",
       "      <th>Sub_metering_2</th>\n",
       "      <th>Sub_metering_3</th>\n",
       "    </tr>\n",
       "  </thead>\n",
       "  <tbody>\n",
       "    <tr>\n",
       "      <th>0</th>\n",
       "      <td>2006-12-16</td>\n",
       "      <td>1209.176</td>\n",
       "      <td>34.922</td>\n",
       "      <td>93552.53</td>\n",
       "      <td>5180.8</td>\n",
       "      <td>0.0</td>\n",
       "      <td>546.0</td>\n",
       "      <td>4926.0</td>\n",
       "    </tr>\n",
       "    <tr>\n",
       "      <th>1</th>\n",
       "      <td>2006-12-17</td>\n",
       "      <td>3390.460</td>\n",
       "      <td>226.006</td>\n",
       "      <td>345725.32</td>\n",
       "      <td>14398.6</td>\n",
       "      <td>2033.0</td>\n",
       "      <td>4187.0</td>\n",
       "      <td>13341.0</td>\n",
       "    </tr>\n",
       "    <tr>\n",
       "      <th>2</th>\n",
       "      <td>2006-12-18</td>\n",
       "      <td>2203.826</td>\n",
       "      <td>161.792</td>\n",
       "      <td>347373.64</td>\n",
       "      <td>9247.2</td>\n",
       "      <td>1063.0</td>\n",
       "      <td>2621.0</td>\n",
       "      <td>14018.0</td>\n",
       "    </tr>\n",
       "    <tr>\n",
       "      <th>3</th>\n",
       "      <td>2006-12-19</td>\n",
       "      <td>1666.194</td>\n",
       "      <td>150.942</td>\n",
       "      <td>348479.01</td>\n",
       "      <td>7094.0</td>\n",
       "      <td>839.0</td>\n",
       "      <td>7602.0</td>\n",
       "      <td>6197.0</td>\n",
       "    </tr>\n",
       "    <tr>\n",
       "      <th>4</th>\n",
       "      <td>2006-12-20</td>\n",
       "      <td>2225.748</td>\n",
       "      <td>160.998</td>\n",
       "      <td>348923.61</td>\n",
       "      <td>9313.0</td>\n",
       "      <td>0.0</td>\n",
       "      <td>2648.0</td>\n",
       "      <td>14063.0</td>\n",
       "    </tr>\n",
       "  </tbody>\n",
       "</table>\n",
       "</div>"
      ],
      "text/plain": [
       "    Datetime  Global_active_power  Global_reactive_power    Voltage  \\\n",
       "0 2006-12-16             1209.176                 34.922   93552.53   \n",
       "1 2006-12-17             3390.460                226.006  345725.32   \n",
       "2 2006-12-18             2203.826                161.792  347373.64   \n",
       "3 2006-12-19             1666.194                150.942  348479.01   \n",
       "4 2006-12-20             2225.748                160.998  348923.61   \n",
       "\n",
       "   Global_intensity  Sub_metering_1  Sub_metering_2  Sub_metering_3  \n",
       "0            5180.8             0.0           546.0          4926.0  \n",
       "1           14398.6          2033.0          4187.0         13341.0  \n",
       "2            9247.2          1063.0          2621.0         14018.0  \n",
       "3            7094.0           839.0          7602.0          6197.0  \n",
       "4            9313.0             0.0          2648.0         14063.0  "
      ]
     },
     "execution_count": 21,
     "metadata": {},
     "output_type": "execute_result"
    }
   ],
   "source": [
    "DF=df_daily.reset_index()\n",
    "DF.head()"
   ]
  },
  {
   "cell_type": "code",
   "execution_count": 22,
   "metadata": {},
   "outputs": [
    {
     "name": "stdout",
     "output_type": "stream",
     "text": [
      "<class 'pandas.core.frame.DataFrame'>\n",
      "RangeIndex: 1442 entries, 0 to 1441\n",
      "Data columns (total 8 columns):\n",
      " #   Column                 Non-Null Count  Dtype         \n",
      "---  ------                 --------------  -----         \n",
      " 0   Datetime               1442 non-null   datetime64[ns]\n",
      " 1   Global_active_power    1442 non-null   float64       \n",
      " 2   Global_reactive_power  1442 non-null   float64       \n",
      " 3   Voltage                1442 non-null   float64       \n",
      " 4   Global_intensity       1442 non-null   float64       \n",
      " 5   Sub_metering_1         1442 non-null   float64       \n",
      " 6   Sub_metering_2         1442 non-null   float64       \n",
      " 7   Sub_metering_3         1442 non-null   float64       \n",
      "dtypes: datetime64[ns](1), float64(7)\n",
      "memory usage: 90.2 KB\n"
     ]
    }
   ],
   "source": [
    "DF.info()"
   ]
  },
  {
   "cell_type": "code",
   "execution_count": 23,
   "metadata": {},
   "outputs": [
    {
     "data": {
      "text/html": [
       "<div>\n",
       "<style scoped>\n",
       "    .dataframe tbody tr th:only-of-type {\n",
       "        vertical-align: middle;\n",
       "    }\n",
       "\n",
       "    .dataframe tbody tr th {\n",
       "        vertical-align: top;\n",
       "    }\n",
       "\n",
       "    .dataframe thead th {\n",
       "        text-align: right;\n",
       "    }\n",
       "</style>\n",
       "<table border=\"1\" class=\"dataframe\">\n",
       "  <thead>\n",
       "    <tr style=\"text-align: right;\">\n",
       "      <th></th>\n",
       "      <th>ds</th>\n",
       "      <th>y</th>\n",
       "    </tr>\n",
       "  </thead>\n",
       "  <tbody>\n",
       "    <tr>\n",
       "      <th>0</th>\n",
       "      <td>2006-12-16</td>\n",
       "      <td>1209.176</td>\n",
       "    </tr>\n",
       "    <tr>\n",
       "      <th>1</th>\n",
       "      <td>2006-12-17</td>\n",
       "      <td>3390.460</td>\n",
       "    </tr>\n",
       "    <tr>\n",
       "      <th>2</th>\n",
       "      <td>2006-12-18</td>\n",
       "      <td>2203.826</td>\n",
       "    </tr>\n",
       "    <tr>\n",
       "      <th>3</th>\n",
       "      <td>2006-12-19</td>\n",
       "      <td>1666.194</td>\n",
       "    </tr>\n",
       "    <tr>\n",
       "      <th>4</th>\n",
       "      <td>2006-12-20</td>\n",
       "      <td>2225.748</td>\n",
       "    </tr>\n",
       "  </tbody>\n",
       "</table>\n",
       "</div>"
      ],
      "text/plain": [
       "          ds         y\n",
       "0 2006-12-16  1209.176\n",
       "1 2006-12-17  3390.460\n",
       "2 2006-12-18  2203.826\n",
       "3 2006-12-19  1666.194\n",
       "4 2006-12-20  2225.748"
      ]
     },
     "execution_count": 23,
     "metadata": {},
     "output_type": "execute_result"
    }
   ],
   "source": [
    "# taking the needed columns\n",
    "DF = DF[['Datetime','Global_active_power']]\n",
    "\n",
    "# renaming the column\n",
    "DF = DF.rename(columns={'Datetime':'ds', 'Global_active_power':'y'})\n",
    "DF.shape\n",
    "DF.head()"
   ]
  },
  {
   "cell_type": "code",
   "execution_count": 24,
   "metadata": {},
   "outputs": [
    {
     "data": {
      "text/html": [
       "<div>\n",
       "<style scoped>\n",
       "    .dataframe tbody tr th:only-of-type {\n",
       "        vertical-align: middle;\n",
       "    }\n",
       "\n",
       "    .dataframe tbody tr th {\n",
       "        vertical-align: top;\n",
       "    }\n",
       "\n",
       "    .dataframe thead th {\n",
       "        text-align: right;\n",
       "    }\n",
       "</style>\n",
       "<table border=\"1\" class=\"dataframe\">\n",
       "  <thead>\n",
       "    <tr style=\"text-align: right;\">\n",
       "      <th></th>\n",
       "      <th>ds</th>\n",
       "      <th>y</th>\n",
       "    </tr>\n",
       "  </thead>\n",
       "  <tbody>\n",
       "    <tr>\n",
       "      <th>1077</th>\n",
       "      <td>2009-11-27</td>\n",
       "      <td>1380.026</td>\n",
       "    </tr>\n",
       "    <tr>\n",
       "      <th>1078</th>\n",
       "      <td>2009-11-28</td>\n",
       "      <td>1858.950</td>\n",
       "    </tr>\n",
       "    <tr>\n",
       "      <th>1079</th>\n",
       "      <td>2009-11-29</td>\n",
       "      <td>1650.962</td>\n",
       "    </tr>\n",
       "    <tr>\n",
       "      <th>1080</th>\n",
       "      <td>2009-11-30</td>\n",
       "      <td>1745.190</td>\n",
       "    </tr>\n",
       "    <tr>\n",
       "      <th>1081</th>\n",
       "      <td>2009-12-01</td>\n",
       "      <td>1756.378</td>\n",
       "    </tr>\n",
       "  </tbody>\n",
       "</table>\n",
       "</div>"
      ],
      "text/plain": [
       "             ds         y\n",
       "1077 2009-11-27  1380.026\n",
       "1078 2009-11-28  1858.950\n",
       "1079 2009-11-29  1650.962\n",
       "1080 2009-11-30  1745.190\n",
       "1081 2009-12-01  1756.378"
      ]
     },
     "execution_count": 24,
     "metadata": {},
     "output_type": "execute_result"
    }
   ],
   "source": [
    "DF_test = DF[-365:]\n",
    "DF_test.head()"
   ]
  },
  {
   "cell_type": "code",
   "execution_count": 25,
   "metadata": {},
   "outputs": [
    {
     "data": {
      "text/plain": [
       "(365, 2)"
      ]
     },
     "execution_count": 25,
     "metadata": {},
     "output_type": "execute_result"
    }
   ],
   "source": [
    "DF_test.shape"
   ]
  },
  {
   "cell_type": "code",
   "execution_count": 26,
   "metadata": {},
   "outputs": [
    {
     "data": {
      "text/html": [
       "<div>\n",
       "<style scoped>\n",
       "    .dataframe tbody tr th:only-of-type {\n",
       "        vertical-align: middle;\n",
       "    }\n",
       "\n",
       "    .dataframe tbody tr th {\n",
       "        vertical-align: top;\n",
       "    }\n",
       "\n",
       "    .dataframe thead th {\n",
       "        text-align: right;\n",
       "    }\n",
       "</style>\n",
       "<table border=\"1\" class=\"dataframe\">\n",
       "  <thead>\n",
       "    <tr style=\"text-align: right;\">\n",
       "      <th></th>\n",
       "      <th>ds</th>\n",
       "      <th>y</th>\n",
       "    </tr>\n",
       "  </thead>\n",
       "  <tbody>\n",
       "    <tr>\n",
       "      <th>0</th>\n",
       "      <td>2006-12-16</td>\n",
       "      <td>1209.176</td>\n",
       "    </tr>\n",
       "    <tr>\n",
       "      <th>1</th>\n",
       "      <td>2006-12-17</td>\n",
       "      <td>3390.460</td>\n",
       "    </tr>\n",
       "    <tr>\n",
       "      <th>2</th>\n",
       "      <td>2006-12-18</td>\n",
       "      <td>2203.826</td>\n",
       "    </tr>\n",
       "    <tr>\n",
       "      <th>3</th>\n",
       "      <td>2006-12-19</td>\n",
       "      <td>1666.194</td>\n",
       "    </tr>\n",
       "    <tr>\n",
       "      <th>4</th>\n",
       "      <td>2006-12-20</td>\n",
       "      <td>2225.748</td>\n",
       "    </tr>\n",
       "  </tbody>\n",
       "</table>\n",
       "</div>"
      ],
      "text/plain": [
       "          ds         y\n",
       "0 2006-12-16  1209.176\n",
       "1 2006-12-17  3390.460\n",
       "2 2006-12-18  2203.826\n",
       "3 2006-12-19  1666.194\n",
       "4 2006-12-20  2225.748"
      ]
     },
     "execution_count": 26,
     "metadata": {},
     "output_type": "execute_result"
    }
   ],
   "source": [
    "DF_train = DF[:-365]\n",
    "DF_train.head()"
   ]
  },
  {
   "cell_type": "code",
   "execution_count": 27,
   "metadata": {},
   "outputs": [],
   "source": [
    "assert len(DF_train) == (len(df_daily)-365)"
   ]
  },
  {
   "cell_type": "code",
   "execution_count": 28,
   "metadata": {},
   "outputs": [
    {
     "name": "stderr",
     "output_type": "stream",
     "text": [
      "Importing plotly failed. Interactive plots will not work.\n"
     ]
    }
   ],
   "source": [
    "from fbprophet import Prophet"
   ]
  },
  {
   "cell_type": "code",
   "execution_count": 29,
   "metadata": {},
   "outputs": [
    {
     "name": "stderr",
     "output_type": "stream",
     "text": [
      "INFO:fbprophet:Disabling daily seasonality. Run prophet with daily_seasonality=True to override this.\n",
      "C:\\Users\\HP\\anaconda3\\lib\\site-packages\\pystan\\misc.py:399: FutureWarning: Conversion of the second argument of issubdtype from `float` to `np.floating` is deprecated. In future, it will be treated as `np.float64 == np.dtype(float).type`.\n",
      "  elif np.issubdtype(np.asarray(v).dtype, float):\n"
     ]
    },
    {
     "data": {
      "text/plain": [
       "<fbprophet.forecaster.Prophet at 0x225037d7248>"
      ]
     },
     "execution_count": 29,
     "metadata": {},
     "output_type": "execute_result"
    }
   ],
   "source": [
    "model = Prophet()\n",
    "model.fit(DF_train)"
   ]
  },
  {
   "cell_type": "code",
   "execution_count": 30,
   "metadata": {},
   "outputs": [
    {
     "data": {
      "text/html": [
       "<div>\n",
       "<style scoped>\n",
       "    .dataframe tbody tr th:only-of-type {\n",
       "        vertical-align: middle;\n",
       "    }\n",
       "\n",
       "    .dataframe tbody tr th {\n",
       "        vertical-align: top;\n",
       "    }\n",
       "\n",
       "    .dataframe thead th {\n",
       "        text-align: right;\n",
       "    }\n",
       "</style>\n",
       "<table border=\"1\" class=\"dataframe\">\n",
       "  <thead>\n",
       "    <tr style=\"text-align: right;\">\n",
       "      <th></th>\n",
       "      <th>ds</th>\n",
       "      <th>trend</th>\n",
       "      <th>yhat_lower</th>\n",
       "      <th>yhat_upper</th>\n",
       "      <th>trend_lower</th>\n",
       "      <th>trend_upper</th>\n",
       "      <th>additive_terms</th>\n",
       "      <th>additive_terms_lower</th>\n",
       "      <th>additive_terms_upper</th>\n",
       "      <th>weekly</th>\n",
       "      <th>weekly_lower</th>\n",
       "      <th>weekly_upper</th>\n",
       "      <th>yearly</th>\n",
       "      <th>yearly_lower</th>\n",
       "      <th>yearly_upper</th>\n",
       "      <th>multiplicative_terms</th>\n",
       "      <th>multiplicative_terms_lower</th>\n",
       "      <th>multiplicative_terms_upper</th>\n",
       "      <th>yhat</th>\n",
       "    </tr>\n",
       "  </thead>\n",
       "  <tbody>\n",
       "    <tr>\n",
       "      <th>0</th>\n",
       "      <td>2006-12-16</td>\n",
       "      <td>1632.315186</td>\n",
       "      <td>1812.723814</td>\n",
       "      <td>2961.041965</td>\n",
       "      <td>1632.315186</td>\n",
       "      <td>1632.315186</td>\n",
       "      <td>768.220156</td>\n",
       "      <td>768.220156</td>\n",
       "      <td>768.220156</td>\n",
       "      <td>233.548523</td>\n",
       "      <td>233.548523</td>\n",
       "      <td>233.548523</td>\n",
       "      <td>534.671633</td>\n",
       "      <td>534.671633</td>\n",
       "      <td>534.671633</td>\n",
       "      <td>0.0</td>\n",
       "      <td>0.0</td>\n",
       "      <td>0.0</td>\n",
       "      <td>2400.535342</td>\n",
       "    </tr>\n",
       "    <tr>\n",
       "      <th>1</th>\n",
       "      <td>2006-12-17</td>\n",
       "      <td>1632.182272</td>\n",
       "      <td>1796.794014</td>\n",
       "      <td>2963.276725</td>\n",
       "      <td>1632.182272</td>\n",
       "      <td>1632.182272</td>\n",
       "      <td>765.368769</td>\n",
       "      <td>765.368769</td>\n",
       "      <td>765.368769</td>\n",
       "      <td>215.238546</td>\n",
       "      <td>215.238546</td>\n",
       "      <td>215.238546</td>\n",
       "      <td>550.130223</td>\n",
       "      <td>550.130223</td>\n",
       "      <td>550.130223</td>\n",
       "      <td>0.0</td>\n",
       "      <td>0.0</td>\n",
       "      <td>0.0</td>\n",
       "      <td>2397.551041</td>\n",
       "    </tr>\n",
       "    <tr>\n",
       "      <th>2</th>\n",
       "      <td>2006-12-18</td>\n",
       "      <td>1632.049359</td>\n",
       "      <td>1491.466486</td>\n",
       "      <td>2597.107799</td>\n",
       "      <td>1632.049359</td>\n",
       "      <td>1632.049359</td>\n",
       "      <td>404.131247</td>\n",
       "      <td>404.131247</td>\n",
       "      <td>404.131247</td>\n",
       "      <td>-162.246259</td>\n",
       "      <td>-162.246259</td>\n",
       "      <td>-162.246259</td>\n",
       "      <td>566.377506</td>\n",
       "      <td>566.377506</td>\n",
       "      <td>566.377506</td>\n",
       "      <td>0.0</td>\n",
       "      <td>0.0</td>\n",
       "      <td>0.0</td>\n",
       "      <td>2036.180606</td>\n",
       "    </tr>\n",
       "    <tr>\n",
       "      <th>3</th>\n",
       "      <td>2006-12-19</td>\n",
       "      <td>1631.916445</td>\n",
       "      <td>1565.224683</td>\n",
       "      <td>2763.314443</td>\n",
       "      <td>1631.916445</td>\n",
       "      <td>1631.916445</td>\n",
       "      <td>561.839685</td>\n",
       "      <td>561.839685</td>\n",
       "      <td>561.839685</td>\n",
       "      <td>-21.096175</td>\n",
       "      <td>-21.096175</td>\n",
       "      <td>-21.096175</td>\n",
       "      <td>582.935860</td>\n",
       "      <td>582.935860</td>\n",
       "      <td>582.935860</td>\n",
       "      <td>0.0</td>\n",
       "      <td>0.0</td>\n",
       "      <td>0.0</td>\n",
       "      <td>2193.756130</td>\n",
       "    </tr>\n",
       "    <tr>\n",
       "      <th>4</th>\n",
       "      <td>2006-12-20</td>\n",
       "      <td>1631.783531</td>\n",
       "      <td>1622.012761</td>\n",
       "      <td>2808.831973</td>\n",
       "      <td>1631.783531</td>\n",
       "      <td>1631.783531</td>\n",
       "      <td>582.354165</td>\n",
       "      <td>582.354165</td>\n",
       "      <td>582.354165</td>\n",
       "      <td>-16.960243</td>\n",
       "      <td>-16.960243</td>\n",
       "      <td>-16.960243</td>\n",
       "      <td>599.314407</td>\n",
       "      <td>599.314407</td>\n",
       "      <td>599.314407</td>\n",
       "      <td>0.0</td>\n",
       "      <td>0.0</td>\n",
       "      <td>0.0</td>\n",
       "      <td>2214.137696</td>\n",
       "    </tr>\n",
       "  </tbody>\n",
       "</table>\n",
       "</div>"
      ],
      "text/plain": [
       "          ds        trend   yhat_lower   yhat_upper  trend_lower  trend_upper  \\\n",
       "0 2006-12-16  1632.315186  1812.723814  2961.041965  1632.315186  1632.315186   \n",
       "1 2006-12-17  1632.182272  1796.794014  2963.276725  1632.182272  1632.182272   \n",
       "2 2006-12-18  1632.049359  1491.466486  2597.107799  1632.049359  1632.049359   \n",
       "3 2006-12-19  1631.916445  1565.224683  2763.314443  1631.916445  1631.916445   \n",
       "4 2006-12-20  1631.783531  1622.012761  2808.831973  1631.783531  1631.783531   \n",
       "\n",
       "   additive_terms  additive_terms_lower  additive_terms_upper      weekly  \\\n",
       "0      768.220156            768.220156            768.220156  233.548523   \n",
       "1      765.368769            765.368769            765.368769  215.238546   \n",
       "2      404.131247            404.131247            404.131247 -162.246259   \n",
       "3      561.839685            561.839685            561.839685  -21.096175   \n",
       "4      582.354165            582.354165            582.354165  -16.960243   \n",
       "\n",
       "   weekly_lower  weekly_upper      yearly  yearly_lower  yearly_upper  \\\n",
       "0    233.548523    233.548523  534.671633    534.671633    534.671633   \n",
       "1    215.238546    215.238546  550.130223    550.130223    550.130223   \n",
       "2   -162.246259   -162.246259  566.377506    566.377506    566.377506   \n",
       "3    -21.096175    -21.096175  582.935860    582.935860    582.935860   \n",
       "4    -16.960243    -16.960243  599.314407    599.314407    599.314407   \n",
       "\n",
       "   multiplicative_terms  multiplicative_terms_lower  \\\n",
       "0                   0.0                         0.0   \n",
       "1                   0.0                         0.0   \n",
       "2                   0.0                         0.0   \n",
       "3                   0.0                         0.0   \n",
       "4                   0.0                         0.0   \n",
       "\n",
       "   multiplicative_terms_upper         yhat  \n",
       "0                         0.0  2400.535342  \n",
       "1                         0.0  2397.551041  \n",
       "2                         0.0  2036.180606  \n",
       "3                         0.0  2193.756130  \n",
       "4                         0.0  2214.137696  "
      ]
     },
     "execution_count": 30,
     "metadata": {},
     "output_type": "execute_result"
    }
   ],
   "source": [
    "future = model.make_future_dataframe(periods=365, freq='D') \n",
    "forecast = model.predict(future) \n",
    "forecast.head()"
   ]
  },
  {
   "cell_type": "code",
   "execution_count": 31,
   "metadata": {},
   "outputs": [
    {
     "data": {
      "text/html": [
       "<div>\n",
       "<style scoped>\n",
       "    .dataframe tbody tr th:only-of-type {\n",
       "        vertical-align: middle;\n",
       "    }\n",
       "\n",
       "    .dataframe tbody tr th {\n",
       "        vertical-align: top;\n",
       "    }\n",
       "\n",
       "    .dataframe thead th {\n",
       "        text-align: right;\n",
       "    }\n",
       "</style>\n",
       "<table border=\"1\" class=\"dataframe\">\n",
       "  <thead>\n",
       "    <tr style=\"text-align: right;\">\n",
       "      <th></th>\n",
       "      <th>ds</th>\n",
       "      <th>yhat</th>\n",
       "      <th>yhat_lower</th>\n",
       "      <th>yhat_upper</th>\n",
       "      <th>trend</th>\n",
       "      <th>trend_lower</th>\n",
       "      <th>trend_upper</th>\n",
       "    </tr>\n",
       "  </thead>\n",
       "  <tbody>\n",
       "    <tr>\n",
       "      <th>0</th>\n",
       "      <td>2006-12-16</td>\n",
       "      <td>2400.535342</td>\n",
       "      <td>1812.723814</td>\n",
       "      <td>2961.041965</td>\n",
       "      <td>1632.315186</td>\n",
       "      <td>1632.315186</td>\n",
       "      <td>1632.315186</td>\n",
       "    </tr>\n",
       "    <tr>\n",
       "      <th>1</th>\n",
       "      <td>2006-12-17</td>\n",
       "      <td>2397.551041</td>\n",
       "      <td>1796.794014</td>\n",
       "      <td>2963.276725</td>\n",
       "      <td>1632.182272</td>\n",
       "      <td>1632.182272</td>\n",
       "      <td>1632.182272</td>\n",
       "    </tr>\n",
       "    <tr>\n",
       "      <th>2</th>\n",
       "      <td>2006-12-18</td>\n",
       "      <td>2036.180606</td>\n",
       "      <td>1491.466486</td>\n",
       "      <td>2597.107799</td>\n",
       "      <td>1632.049359</td>\n",
       "      <td>1632.049359</td>\n",
       "      <td>1632.049359</td>\n",
       "    </tr>\n",
       "    <tr>\n",
       "      <th>3</th>\n",
       "      <td>2006-12-19</td>\n",
       "      <td>2193.756130</td>\n",
       "      <td>1565.224683</td>\n",
       "      <td>2763.314443</td>\n",
       "      <td>1631.916445</td>\n",
       "      <td>1631.916445</td>\n",
       "      <td>1631.916445</td>\n",
       "    </tr>\n",
       "    <tr>\n",
       "      <th>4</th>\n",
       "      <td>2006-12-20</td>\n",
       "      <td>2214.137696</td>\n",
       "      <td>1622.012761</td>\n",
       "      <td>2808.831973</td>\n",
       "      <td>1631.783531</td>\n",
       "      <td>1631.783531</td>\n",
       "      <td>1631.783531</td>\n",
       "    </tr>\n",
       "    <tr>\n",
       "      <th>...</th>\n",
       "      <td>...</td>\n",
       "      <td>...</td>\n",
       "      <td>...</td>\n",
       "      <td>...</td>\n",
       "      <td>...</td>\n",
       "      <td>...</td>\n",
       "      <td>...</td>\n",
       "    </tr>\n",
       "    <tr>\n",
       "      <th>1437</th>\n",
       "      <td>2010-11-22</td>\n",
       "      <td>2008.112317</td>\n",
       "      <td>1451.990881</td>\n",
       "      <td>2593.755396</td>\n",
       "      <td>1589.662193</td>\n",
       "      <td>1580.707494</td>\n",
       "      <td>1597.728029</td>\n",
       "    </tr>\n",
       "    <tr>\n",
       "      <th>1438</th>\n",
       "      <td>2010-11-23</td>\n",
       "      <td>2158.435277</td>\n",
       "      <td>1648.612588</td>\n",
       "      <td>2761.297198</td>\n",
       "      <td>1589.739322</td>\n",
       "      <td>1580.747741</td>\n",
       "      <td>1597.835945</td>\n",
       "    </tr>\n",
       "    <tr>\n",
       "      <th>1439</th>\n",
       "      <td>2010-11-24</td>\n",
       "      <td>2167.823491</td>\n",
       "      <td>1573.262680</td>\n",
       "      <td>2743.923047</td>\n",
       "      <td>1589.816451</td>\n",
       "      <td>1580.789753</td>\n",
       "      <td>1597.938060</td>\n",
       "    </tr>\n",
       "    <tr>\n",
       "      <th>1440</th>\n",
       "      <td>2010-11-25</td>\n",
       "      <td>1993.601103</td>\n",
       "      <td>1430.458474</td>\n",
       "      <td>2561.695816</td>\n",
       "      <td>1589.893580</td>\n",
       "      <td>1580.832607</td>\n",
       "      <td>1598.043518</td>\n",
       "    </tr>\n",
       "    <tr>\n",
       "      <th>1441</th>\n",
       "      <td>2010-11-26</td>\n",
       "      <td>2128.742360</td>\n",
       "      <td>1504.247430</td>\n",
       "      <td>2700.817320</td>\n",
       "      <td>1589.970708</td>\n",
       "      <td>1580.875460</td>\n",
       "      <td>1598.154173</td>\n",
       "    </tr>\n",
       "  </tbody>\n",
       "</table>\n",
       "<p>1442 rows × 7 columns</p>\n",
       "</div>"
      ],
      "text/plain": [
       "             ds         yhat   yhat_lower   yhat_upper        trend  \\\n",
       "0    2006-12-16  2400.535342  1812.723814  2961.041965  1632.315186   \n",
       "1    2006-12-17  2397.551041  1796.794014  2963.276725  1632.182272   \n",
       "2    2006-12-18  2036.180606  1491.466486  2597.107799  1632.049359   \n",
       "3    2006-12-19  2193.756130  1565.224683  2763.314443  1631.916445   \n",
       "4    2006-12-20  2214.137696  1622.012761  2808.831973  1631.783531   \n",
       "...         ...          ...          ...          ...          ...   \n",
       "1437 2010-11-22  2008.112317  1451.990881  2593.755396  1589.662193   \n",
       "1438 2010-11-23  2158.435277  1648.612588  2761.297198  1589.739322   \n",
       "1439 2010-11-24  2167.823491  1573.262680  2743.923047  1589.816451   \n",
       "1440 2010-11-25  1993.601103  1430.458474  2561.695816  1589.893580   \n",
       "1441 2010-11-26  2128.742360  1504.247430  2700.817320  1589.970708   \n",
       "\n",
       "      trend_lower  trend_upper  \n",
       "0     1632.315186  1632.315186  \n",
       "1     1632.182272  1632.182272  \n",
       "2     1632.049359  1632.049359  \n",
       "3     1631.916445  1631.916445  \n",
       "4     1631.783531  1631.783531  \n",
       "...           ...          ...  \n",
       "1437  1580.707494  1597.728029  \n",
       "1438  1580.747741  1597.835945  \n",
       "1439  1580.789753  1597.938060  \n",
       "1440  1580.832607  1598.043518  \n",
       "1441  1580.875460  1598.154173  \n",
       "\n",
       "[1442 rows x 7 columns]"
      ]
     },
     "execution_count": 31,
     "metadata": {},
     "output_type": "execute_result"
    }
   ],
   "source": [
    "forecast[['ds', 'yhat', 'yhat_lower', 'yhat_upper', 'trend', 'trend_lower', 'trend_upper']]"
   ]
  },
  {
   "cell_type": "code",
   "execution_count": 32,
   "metadata": {},
   "outputs": [],
   "source": [
    "def mape(y_true, y_pred):\n",
    "  y_true, y_pred = np.array(y_true), np.array(y_pred)\n",
    "  return np.mean(np.abs((y_true-y_pred)/y_true))*100"
   ]
  },
  {
   "cell_type": "code",
   "execution_count": 33,
   "metadata": {},
   "outputs": [],
   "source": [
    "DF_test_val = DF_test['y'] \n",
    "pred_val = forecast['yhat'][-365:]"
   ]
  },
  {
   "cell_type": "code",
   "execution_count": 34,
   "metadata": {},
   "outputs": [
    {
     "name": "stdout",
     "output_type": "stream",
     "text": [
      "MAPE prediction:  inf\n"
     ]
    },
    {
     "name": "stderr",
     "output_type": "stream",
     "text": [
      "C:\\Users\\HP\\anaconda3\\lib\\site-packages\\ipykernel_launcher.py:3: RuntimeWarning: divide by zero encountered in true_divide\n",
      "  This is separate from the ipykernel package so we can avoid doing imports until\n"
     ]
    }
   ],
   "source": [
    "prediction = mape(DF_test_val, pred_val)\n",
    "print('MAPE prediction: ', round(prediction, 2))"
   ]
  },
  {
   "cell_type": "code",
   "execution_count": 35,
   "metadata": {},
   "outputs": [
    {
     "name": "stdout",
     "output_type": "stream",
     "text": [
      "RMSE prediction:  441.43\n"
     ]
    }
   ],
   "source": [
    "from sklearn.metrics import mean_squared_error\n",
    "\n",
    "mse = mean_squared_error(DF_test_val, pred_val)\n",
    "# takes the sqrt of the mse to get the rmse\n",
    "rmse = np.sqrt(mse)\n",
    "print('RMSE prediction: ', round(rmse, 2))"
   ]
  },
  {
   "cell_type": "code",
   "execution_count": 36,
   "metadata": {},
   "outputs": [
    {
     "data": {
      "text/html": [
       "<div>\n",
       "<style scoped>\n",
       "    .dataframe tbody tr th:only-of-type {\n",
       "        vertical-align: middle;\n",
       "    }\n",
       "\n",
       "    .dataframe tbody tr th {\n",
       "        vertical-align: top;\n",
       "    }\n",
       "\n",
       "    .dataframe thead th {\n",
       "        text-align: right;\n",
       "    }\n",
       "</style>\n",
       "<table border=\"1\" class=\"dataframe\">\n",
       "  <thead>\n",
       "    <tr style=\"text-align: right;\">\n",
       "      <th></th>\n",
       "      <th>Datetime</th>\n",
       "      <th>Global_active_power</th>\n",
       "      <th>Global_reactive_power</th>\n",
       "      <th>Voltage</th>\n",
       "      <th>Global_intensity</th>\n",
       "      <th>Sub_metering_1</th>\n",
       "      <th>Sub_metering_2</th>\n",
       "      <th>Sub_metering_3</th>\n",
       "    </tr>\n",
       "  </thead>\n",
       "  <tbody>\n",
       "    <tr>\n",
       "      <th>0</th>\n",
       "      <td>2006-12-16</td>\n",
       "      <td>1209.176</td>\n",
       "      <td>34.922</td>\n",
       "      <td>93552.53</td>\n",
       "      <td>5180.8</td>\n",
       "      <td>0.0</td>\n",
       "      <td>546.0</td>\n",
       "      <td>4926.0</td>\n",
       "    </tr>\n",
       "    <tr>\n",
       "      <th>1</th>\n",
       "      <td>2006-12-17</td>\n",
       "      <td>3390.460</td>\n",
       "      <td>226.006</td>\n",
       "      <td>345725.32</td>\n",
       "      <td>14398.6</td>\n",
       "      <td>2033.0</td>\n",
       "      <td>4187.0</td>\n",
       "      <td>13341.0</td>\n",
       "    </tr>\n",
       "    <tr>\n",
       "      <th>2</th>\n",
       "      <td>2006-12-18</td>\n",
       "      <td>2203.826</td>\n",
       "      <td>161.792</td>\n",
       "      <td>347373.64</td>\n",
       "      <td>9247.2</td>\n",
       "      <td>1063.0</td>\n",
       "      <td>2621.0</td>\n",
       "      <td>14018.0</td>\n",
       "    </tr>\n",
       "    <tr>\n",
       "      <th>3</th>\n",
       "      <td>2006-12-19</td>\n",
       "      <td>1666.194</td>\n",
       "      <td>150.942</td>\n",
       "      <td>348479.01</td>\n",
       "      <td>7094.0</td>\n",
       "      <td>839.0</td>\n",
       "      <td>7602.0</td>\n",
       "      <td>6197.0</td>\n",
       "    </tr>\n",
       "    <tr>\n",
       "      <th>4</th>\n",
       "      <td>2006-12-20</td>\n",
       "      <td>2225.748</td>\n",
       "      <td>160.998</td>\n",
       "      <td>348923.61</td>\n",
       "      <td>9313.0</td>\n",
       "      <td>0.0</td>\n",
       "      <td>2648.0</td>\n",
       "      <td>14063.0</td>\n",
       "    </tr>\n",
       "  </tbody>\n",
       "</table>\n",
       "</div>"
      ],
      "text/plain": [
       "    Datetime  Global_active_power  Global_reactive_power    Voltage  \\\n",
       "0 2006-12-16             1209.176                 34.922   93552.53   \n",
       "1 2006-12-17             3390.460                226.006  345725.32   \n",
       "2 2006-12-18             2203.826                161.792  347373.64   \n",
       "3 2006-12-19             1666.194                150.942  348479.01   \n",
       "4 2006-12-20             2225.748                160.998  348923.61   \n",
       "\n",
       "   Global_intensity  Sub_metering_1  Sub_metering_2  Sub_metering_3  \n",
       "0            5180.8             0.0           546.0          4926.0  \n",
       "1           14398.6          2033.0          4187.0         13341.0  \n",
       "2            9247.2          1063.0          2621.0         14018.0  \n",
       "3            7094.0           839.0          7602.0          6197.0  \n",
       "4            9313.0             0.0          2648.0         14063.0  "
      ]
     },
     "execution_count": 36,
     "metadata": {},
     "output_type": "execute_result"
    }
   ],
   "source": [
    "DF2 = df_daily.reset_index()\n",
    "DF2.head()"
   ]
  },
  {
   "cell_type": "code",
   "execution_count": 56,
   "metadata": {},
   "outputs": [
    {
     "data": {
      "text/html": [
       "<div>\n",
       "<style scoped>\n",
       "    .dataframe tbody tr th:only-of-type {\n",
       "        vertical-align: middle;\n",
       "    }\n",
       "\n",
       "    .dataframe tbody tr th {\n",
       "        vertical-align: top;\n",
       "    }\n",
       "\n",
       "    .dataframe thead th {\n",
       "        text-align: right;\n",
       "    }\n",
       "</style>\n",
       "<table border=\"1\" class=\"dataframe\">\n",
       "  <thead>\n",
       "    <tr style=\"text-align: right;\">\n",
       "      <th></th>\n",
       "      <th>ds</th>\n",
       "      <th>y</th>\n",
       "      <th>add1</th>\n",
       "      <th>add2</th>\n",
       "      <th>add3</th>\n",
       "      <th>add4</th>\n",
       "      <th>add5</th>\n",
       "      <th>add6</th>\n",
       "    </tr>\n",
       "  </thead>\n",
       "  <tbody>\n",
       "    <tr>\n",
       "      <th>0</th>\n",
       "      <td>2006-12-16</td>\n",
       "      <td>1209.176</td>\n",
       "      <td>34.922</td>\n",
       "      <td>93552.53</td>\n",
       "      <td>5180.8</td>\n",
       "      <td>0.0</td>\n",
       "      <td>546.0</td>\n",
       "      <td>4926.0</td>\n",
       "    </tr>\n",
       "    <tr>\n",
       "      <th>1</th>\n",
       "      <td>2006-12-17</td>\n",
       "      <td>3390.460</td>\n",
       "      <td>226.006</td>\n",
       "      <td>345725.32</td>\n",
       "      <td>14398.6</td>\n",
       "      <td>2033.0</td>\n",
       "      <td>4187.0</td>\n",
       "      <td>13341.0</td>\n",
       "    </tr>\n",
       "    <tr>\n",
       "      <th>2</th>\n",
       "      <td>2006-12-18</td>\n",
       "      <td>2203.826</td>\n",
       "      <td>161.792</td>\n",
       "      <td>347373.64</td>\n",
       "      <td>9247.2</td>\n",
       "      <td>1063.0</td>\n",
       "      <td>2621.0</td>\n",
       "      <td>14018.0</td>\n",
       "    </tr>\n",
       "    <tr>\n",
       "      <th>3</th>\n",
       "      <td>2006-12-19</td>\n",
       "      <td>1666.194</td>\n",
       "      <td>150.942</td>\n",
       "      <td>348479.01</td>\n",
       "      <td>7094.0</td>\n",
       "      <td>839.0</td>\n",
       "      <td>7602.0</td>\n",
       "      <td>6197.0</td>\n",
       "    </tr>\n",
       "    <tr>\n",
       "      <th>4</th>\n",
       "      <td>2006-12-20</td>\n",
       "      <td>2225.748</td>\n",
       "      <td>160.998</td>\n",
       "      <td>348923.61</td>\n",
       "      <td>9313.0</td>\n",
       "      <td>0.0</td>\n",
       "      <td>2648.0</td>\n",
       "      <td>14063.0</td>\n",
       "    </tr>\n",
       "  </tbody>\n",
       "</table>\n",
       "</div>"
      ],
      "text/plain": [
       "          ds         y     add1       add2     add3    add4    add5     add6\n",
       "0 2006-12-16  1209.176   34.922   93552.53   5180.8     0.0   546.0   4926.0\n",
       "1 2006-12-17  3390.460  226.006  345725.32  14398.6  2033.0  4187.0  13341.0\n",
       "2 2006-12-18  2203.826  161.792  347373.64   9247.2  1063.0  2621.0  14018.0\n",
       "3 2006-12-19  1666.194  150.942  348479.01   7094.0   839.0  7602.0   6197.0\n",
       "4 2006-12-20  2225.748  160.998  348923.61   9313.0     0.0  2648.0  14063.0"
      ]
     },
     "execution_count": 56,
     "metadata": {},
     "output_type": "execute_result"
    }
   ],
   "source": [
    "DF2 = DF2.rename(columns={'Datetime':'ds', 'Global_active_power':'y', 'Global_reactive_power':'add1', 'Voltage':'add2', 'Global_intensity':'add3', 'Sub_metering_1':'add4', 'Sub_metering_2':'add5', 'Sub_metering_3':'add6'})\n",
    "DF2.head()"
   ]
  },
  {
   "cell_type": "code",
   "execution_count": 57,
   "metadata": {},
   "outputs": [
    {
     "data": {
      "text/plain": [
       "(1442, 8)"
      ]
     },
     "execution_count": 57,
     "metadata": {},
     "output_type": "execute_result"
    }
   ],
   "source": [
    "DF2.shape"
   ]
  },
  {
   "cell_type": "code",
   "execution_count": 58,
   "metadata": {},
   "outputs": [
    {
     "name": "stdout",
     "output_type": "stream",
     "text": [
      "<class 'pandas.core.frame.DataFrame'>\n",
      "RangeIndex: 1442 entries, 0 to 1441\n",
      "Data columns (total 8 columns):\n",
      " #   Column  Non-Null Count  Dtype         \n",
      "---  ------  --------------  -----         \n",
      " 0   ds      1442 non-null   datetime64[ns]\n",
      " 1   y       1442 non-null   float64       \n",
      " 2   add1    1442 non-null   float64       \n",
      " 3   add2    1442 non-null   float64       \n",
      " 4   add3    1442 non-null   float64       \n",
      " 5   add4    1442 non-null   float64       \n",
      " 6   add5    1442 non-null   float64       \n",
      " 7   add6    1442 non-null   float64       \n",
      "dtypes: datetime64[ns](1), float64(7)\n",
      "memory usage: 90.2 KB\n"
     ]
    }
   ],
   "source": [
    "DF2.info()"
   ]
  },
  {
   "cell_type": "code",
   "execution_count": 59,
   "metadata": {},
   "outputs": [
    {
     "data": {
      "text/html": [
       "<div>\n",
       "<style scoped>\n",
       "    .dataframe tbody tr th:only-of-type {\n",
       "        vertical-align: middle;\n",
       "    }\n",
       "\n",
       "    .dataframe tbody tr th {\n",
       "        vertical-align: top;\n",
       "    }\n",
       "\n",
       "    .dataframe thead th {\n",
       "        text-align: right;\n",
       "    }\n",
       "</style>\n",
       "<table border=\"1\" class=\"dataframe\">\n",
       "  <thead>\n",
       "    <tr style=\"text-align: right;\">\n",
       "      <th></th>\n",
       "      <th>ds</th>\n",
       "      <th>y</th>\n",
       "      <th>add1</th>\n",
       "      <th>add2</th>\n",
       "      <th>add3</th>\n",
       "      <th>add4</th>\n",
       "      <th>add5</th>\n",
       "      <th>add6</th>\n",
       "    </tr>\n",
       "  </thead>\n",
       "  <tbody>\n",
       "    <tr>\n",
       "      <th>0</th>\n",
       "      <td>2006-12-16</td>\n",
       "      <td>1209.176</td>\n",
       "      <td>34.922</td>\n",
       "      <td>93552.53</td>\n",
       "      <td>5180.8</td>\n",
       "      <td>0.0</td>\n",
       "      <td>546.0</td>\n",
       "      <td>4926.0</td>\n",
       "    </tr>\n",
       "    <tr>\n",
       "      <th>1</th>\n",
       "      <td>2006-12-17</td>\n",
       "      <td>3390.460</td>\n",
       "      <td>226.006</td>\n",
       "      <td>345725.32</td>\n",
       "      <td>14398.6</td>\n",
       "      <td>2033.0</td>\n",
       "      <td>4187.0</td>\n",
       "      <td>13341.0</td>\n",
       "    </tr>\n",
       "    <tr>\n",
       "      <th>2</th>\n",
       "      <td>2006-12-18</td>\n",
       "      <td>2203.826</td>\n",
       "      <td>161.792</td>\n",
       "      <td>347373.64</td>\n",
       "      <td>9247.2</td>\n",
       "      <td>1063.0</td>\n",
       "      <td>2621.0</td>\n",
       "      <td>14018.0</td>\n",
       "    </tr>\n",
       "    <tr>\n",
       "      <th>3</th>\n",
       "      <td>2006-12-19</td>\n",
       "      <td>1666.194</td>\n",
       "      <td>150.942</td>\n",
       "      <td>348479.01</td>\n",
       "      <td>7094.0</td>\n",
       "      <td>839.0</td>\n",
       "      <td>7602.0</td>\n",
       "      <td>6197.0</td>\n",
       "    </tr>\n",
       "    <tr>\n",
       "      <th>4</th>\n",
       "      <td>2006-12-20</td>\n",
       "      <td>2225.748</td>\n",
       "      <td>160.998</td>\n",
       "      <td>348923.61</td>\n",
       "      <td>9313.0</td>\n",
       "      <td>0.0</td>\n",
       "      <td>2648.0</td>\n",
       "      <td>14063.0</td>\n",
       "    </tr>\n",
       "  </tbody>\n",
       "</table>\n",
       "</div>"
      ],
      "text/plain": [
       "          ds         y     add1       add2     add3    add4    add5     add6\n",
       "0 2006-12-16  1209.176   34.922   93552.53   5180.8     0.0   546.0   4926.0\n",
       "1 2006-12-17  3390.460  226.006  345725.32  14398.6  2033.0  4187.0  13341.0\n",
       "2 2006-12-18  2203.826  161.792  347373.64   9247.2  1063.0  2621.0  14018.0\n",
       "3 2006-12-19  1666.194  150.942  348479.01   7094.0   839.0  7602.0   6197.0\n",
       "4 2006-12-20  2225.748  160.998  348923.61   9313.0     0.0  2648.0  14063.0"
      ]
     },
     "execution_count": 59,
     "metadata": {},
     "output_type": "execute_result"
    }
   ],
   "source": [
    "DF_test2 = DF2[-365:]\n",
    "DF2.head()"
   ]
  },
  {
   "cell_type": "code",
   "execution_count": 60,
   "metadata": {},
   "outputs": [
    {
     "data": {
      "text/html": [
       "<div>\n",
       "<style scoped>\n",
       "    .dataframe tbody tr th:only-of-type {\n",
       "        vertical-align: middle;\n",
       "    }\n",
       "\n",
       "    .dataframe tbody tr th {\n",
       "        vertical-align: top;\n",
       "    }\n",
       "\n",
       "    .dataframe thead th {\n",
       "        text-align: right;\n",
       "    }\n",
       "</style>\n",
       "<table border=\"1\" class=\"dataframe\">\n",
       "  <thead>\n",
       "    <tr style=\"text-align: right;\">\n",
       "      <th></th>\n",
       "      <th>ds</th>\n",
       "      <th>y</th>\n",
       "      <th>add1</th>\n",
       "      <th>add2</th>\n",
       "      <th>add3</th>\n",
       "      <th>add4</th>\n",
       "      <th>add5</th>\n",
       "      <th>add6</th>\n",
       "    </tr>\n",
       "  </thead>\n",
       "  <tbody>\n",
       "    <tr>\n",
       "      <th>0</th>\n",
       "      <td>2006-12-16</td>\n",
       "      <td>1209.176</td>\n",
       "      <td>34.922</td>\n",
       "      <td>93552.53</td>\n",
       "      <td>5180.8</td>\n",
       "      <td>0.0</td>\n",
       "      <td>546.0</td>\n",
       "      <td>4926.0</td>\n",
       "    </tr>\n",
       "    <tr>\n",
       "      <th>1</th>\n",
       "      <td>2006-12-17</td>\n",
       "      <td>3390.460</td>\n",
       "      <td>226.006</td>\n",
       "      <td>345725.32</td>\n",
       "      <td>14398.6</td>\n",
       "      <td>2033.0</td>\n",
       "      <td>4187.0</td>\n",
       "      <td>13341.0</td>\n",
       "    </tr>\n",
       "    <tr>\n",
       "      <th>2</th>\n",
       "      <td>2006-12-18</td>\n",
       "      <td>2203.826</td>\n",
       "      <td>161.792</td>\n",
       "      <td>347373.64</td>\n",
       "      <td>9247.2</td>\n",
       "      <td>1063.0</td>\n",
       "      <td>2621.0</td>\n",
       "      <td>14018.0</td>\n",
       "    </tr>\n",
       "    <tr>\n",
       "      <th>3</th>\n",
       "      <td>2006-12-19</td>\n",
       "      <td>1666.194</td>\n",
       "      <td>150.942</td>\n",
       "      <td>348479.01</td>\n",
       "      <td>7094.0</td>\n",
       "      <td>839.0</td>\n",
       "      <td>7602.0</td>\n",
       "      <td>6197.0</td>\n",
       "    </tr>\n",
       "    <tr>\n",
       "      <th>4</th>\n",
       "      <td>2006-12-20</td>\n",
       "      <td>2225.748</td>\n",
       "      <td>160.998</td>\n",
       "      <td>348923.61</td>\n",
       "      <td>9313.0</td>\n",
       "      <td>0.0</td>\n",
       "      <td>2648.0</td>\n",
       "      <td>14063.0</td>\n",
       "    </tr>\n",
       "  </tbody>\n",
       "</table>\n",
       "</div>"
      ],
      "text/plain": [
       "          ds         y     add1       add2     add3    add4    add5     add6\n",
       "0 2006-12-16  1209.176   34.922   93552.53   5180.8     0.0   546.0   4926.0\n",
       "1 2006-12-17  3390.460  226.006  345725.32  14398.6  2033.0  4187.0  13341.0\n",
       "2 2006-12-18  2203.826  161.792  347373.64   9247.2  1063.0  2621.0  14018.0\n",
       "3 2006-12-19  1666.194  150.942  348479.01   7094.0   839.0  7602.0   6197.0\n",
       "4 2006-12-20  2225.748  160.998  348923.61   9313.0     0.0  2648.0  14063.0"
      ]
     },
     "execution_count": 60,
     "metadata": {},
     "output_type": "execute_result"
    }
   ],
   "source": [
    "DF_train2 = DF2[:-365]\n",
    "DF_train2.head()"
   ]
  },
  {
   "cell_type": "code",
   "execution_count": 61,
   "metadata": {},
   "outputs": [],
   "source": [
    "assert len(DF_train2) == (len(df_daily)-365)"
   ]
  },
  {
   "cell_type": "code",
   "execution_count": 62,
   "metadata": {},
   "outputs": [],
   "source": [
    "model2 = Prophet()"
   ]
  },
  {
   "cell_type": "code",
   "execution_count": 63,
   "metadata": {},
   "outputs": [
    {
     "data": {
      "text/plain": [
       "<fbprophet.forecaster.Prophet at 0x2250e5bf208>"
      ]
     },
     "execution_count": 63,
     "metadata": {},
     "output_type": "execute_result"
    }
   ],
   "source": [
    "model2.add_regressor('add1')\n",
    "model2.add_regressor('add2')\n",
    "model2.add_regressor('add3')\n",
    "model2.add_regressor('add4')\n",
    "model2.add_regressor('add5')\n",
    "model2.add_regressor('add6')"
   ]
  },
  {
   "cell_type": "code",
   "execution_count": 64,
   "metadata": {},
   "outputs": [
    {
     "name": "stderr",
     "output_type": "stream",
     "text": [
      "INFO:fbprophet:Disabling daily seasonality. Run prophet with daily_seasonality=True to override this.\n",
      "C:\\Users\\HP\\anaconda3\\lib\\site-packages\\pystan\\misc.py:399: FutureWarning: Conversion of the second argument of issubdtype from `float` to `np.floating` is deprecated. In future, it will be treated as `np.float64 == np.dtype(float).type`.\n",
      "  elif np.issubdtype(np.asarray(v).dtype, float):\n"
     ]
    },
    {
     "data": {
      "text/plain": [
       "<fbprophet.forecaster.Prophet at 0x2250e5bf208>"
      ]
     },
     "execution_count": 64,
     "metadata": {},
     "output_type": "execute_result"
    }
   ],
   "source": [
    "model2.fit(DF_train2)"
   ]
  },
  {
   "cell_type": "code",
   "execution_count": 65,
   "metadata": {},
   "outputs": [
    {
     "data": {
      "text/html": [
       "<div>\n",
       "<style scoped>\n",
       "    .dataframe tbody tr th:only-of-type {\n",
       "        vertical-align: middle;\n",
       "    }\n",
       "\n",
       "    .dataframe tbody tr th {\n",
       "        vertical-align: top;\n",
       "    }\n",
       "\n",
       "    .dataframe thead th {\n",
       "        text-align: right;\n",
       "    }\n",
       "</style>\n",
       "<table border=\"1\" class=\"dataframe\">\n",
       "  <thead>\n",
       "    <tr style=\"text-align: right;\">\n",
       "      <th></th>\n",
       "      <th>ds</th>\n",
       "    </tr>\n",
       "  </thead>\n",
       "  <tbody>\n",
       "    <tr>\n",
       "      <th>0</th>\n",
       "      <td>2006-12-16</td>\n",
       "    </tr>\n",
       "    <tr>\n",
       "      <th>1</th>\n",
       "      <td>2006-12-17</td>\n",
       "    </tr>\n",
       "    <tr>\n",
       "      <th>2</th>\n",
       "      <td>2006-12-18</td>\n",
       "    </tr>\n",
       "    <tr>\n",
       "      <th>3</th>\n",
       "      <td>2006-12-19</td>\n",
       "    </tr>\n",
       "    <tr>\n",
       "      <th>4</th>\n",
       "      <td>2006-12-20</td>\n",
       "    </tr>\n",
       "    <tr>\n",
       "      <th>...</th>\n",
       "      <td>...</td>\n",
       "    </tr>\n",
       "    <tr>\n",
       "      <th>1437</th>\n",
       "      <td>2010-11-22</td>\n",
       "    </tr>\n",
       "    <tr>\n",
       "      <th>1438</th>\n",
       "      <td>2010-11-23</td>\n",
       "    </tr>\n",
       "    <tr>\n",
       "      <th>1439</th>\n",
       "      <td>2010-11-24</td>\n",
       "    </tr>\n",
       "    <tr>\n",
       "      <th>1440</th>\n",
       "      <td>2010-11-25</td>\n",
       "    </tr>\n",
       "    <tr>\n",
       "      <th>1441</th>\n",
       "      <td>2010-11-26</td>\n",
       "    </tr>\n",
       "  </tbody>\n",
       "</table>\n",
       "<p>1442 rows × 1 columns</p>\n",
       "</div>"
      ],
      "text/plain": [
       "             ds\n",
       "0    2006-12-16\n",
       "1    2006-12-17\n",
       "2    2006-12-18\n",
       "3    2006-12-19\n",
       "4    2006-12-20\n",
       "...         ...\n",
       "1437 2010-11-22\n",
       "1438 2010-11-23\n",
       "1439 2010-11-24\n",
       "1440 2010-11-25\n",
       "1441 2010-11-26\n",
       "\n",
       "[1442 rows x 1 columns]"
      ]
     },
     "execution_count": 65,
     "metadata": {},
     "output_type": "execute_result"
    }
   ],
   "source": [
    "future_2 = model2.make_future_dataframe(periods=365, freq='D') \n",
    "future_2"
   ]
  },
  {
   "cell_type": "code",
   "execution_count": 66,
   "metadata": {},
   "outputs": [],
   "source": [
    "future_2['add1'] = DF2['add1']\n",
    "future_2['add2'] = DF2['add2']\n",
    "future_2['add3'] = DF2['add3']\n",
    "future_2['add4'] = DF2['add4']\n",
    "future_2['add5'] = DF2['add5']\n",
    "future_2['add6'] = DF2['add6']"
   ]
  },
  {
   "cell_type": "code",
   "execution_count": 67,
   "metadata": {},
   "outputs": [
    {
     "data": {
      "text/html": [
       "<div>\n",
       "<style scoped>\n",
       "    .dataframe tbody tr th:only-of-type {\n",
       "        vertical-align: middle;\n",
       "    }\n",
       "\n",
       "    .dataframe tbody tr th {\n",
       "        vertical-align: top;\n",
       "    }\n",
       "\n",
       "    .dataframe thead th {\n",
       "        text-align: right;\n",
       "    }\n",
       "</style>\n",
       "<table border=\"1\" class=\"dataframe\">\n",
       "  <thead>\n",
       "    <tr style=\"text-align: right;\">\n",
       "      <th></th>\n",
       "      <th>ds</th>\n",
       "      <th>trend</th>\n",
       "      <th>yhat_lower</th>\n",
       "      <th>yhat_upper</th>\n",
       "      <th>trend_lower</th>\n",
       "      <th>trend_upper</th>\n",
       "      <th>add1</th>\n",
       "      <th>add1_lower</th>\n",
       "      <th>add1_upper</th>\n",
       "      <th>add2</th>\n",
       "      <th>...</th>\n",
       "      <th>weekly</th>\n",
       "      <th>weekly_lower</th>\n",
       "      <th>weekly_upper</th>\n",
       "      <th>yearly</th>\n",
       "      <th>yearly_lower</th>\n",
       "      <th>yearly_upper</th>\n",
       "      <th>multiplicative_terms</th>\n",
       "      <th>multiplicative_terms_lower</th>\n",
       "      <th>multiplicative_terms_upper</th>\n",
       "      <th>yhat</th>\n",
       "    </tr>\n",
       "  </thead>\n",
       "  <tbody>\n",
       "    <tr>\n",
       "      <th>0</th>\n",
       "      <td>2006-12-16</td>\n",
       "      <td>1549.398603</td>\n",
       "      <td>1226.515652</td>\n",
       "      <td>1258.514183</td>\n",
       "      <td>1549.398603</td>\n",
       "      <td>1549.398603</td>\n",
       "      <td>23.927307</td>\n",
       "      <td>23.927307</td>\n",
       "      <td>23.927307</td>\n",
       "      <td>2.629798</td>\n",
       "      <td>...</td>\n",
       "      <td>0.802552</td>\n",
       "      <td>0.802552</td>\n",
       "      <td>0.802552</td>\n",
       "      <td>16.543715</td>\n",
       "      <td>16.543715</td>\n",
       "      <td>16.543715</td>\n",
       "      <td>0.0</td>\n",
       "      <td>0.0</td>\n",
       "      <td>0.0</td>\n",
       "      <td>1242.566075</td>\n",
       "    </tr>\n",
       "    <tr>\n",
       "      <th>1</th>\n",
       "      <td>2006-12-17</td>\n",
       "      <td>1549.469098</td>\n",
       "      <td>3393.735181</td>\n",
       "      <td>3426.039286</td>\n",
       "      <td>1549.469098</td>\n",
       "      <td>1549.469098</td>\n",
       "      <td>-8.852336</td>\n",
       "      <td>-8.852336</td>\n",
       "      <td>-8.852336</td>\n",
       "      <td>-0.015178</td>\n",
       "      <td>...</td>\n",
       "      <td>0.161787</td>\n",
       "      <td>0.161787</td>\n",
       "      <td>0.161787</td>\n",
       "      <td>17.418730</td>\n",
       "      <td>17.418730</td>\n",
       "      <td>17.418730</td>\n",
       "      <td>0.0</td>\n",
       "      <td>0.0</td>\n",
       "      <td>0.0</td>\n",
       "      <td>3409.683925</td>\n",
       "    </tr>\n",
       "    <tr>\n",
       "      <th>2</th>\n",
       "      <td>2006-12-18</td>\n",
       "      <td>1549.539593</td>\n",
       "      <td>2180.609874</td>\n",
       "      <td>2214.424569</td>\n",
       "      <td>1549.539593</td>\n",
       "      <td>1549.539593</td>\n",
       "      <td>2.163301</td>\n",
       "      <td>2.163301</td>\n",
       "      <td>2.163301</td>\n",
       "      <td>-0.032467</td>\n",
       "      <td>...</td>\n",
       "      <td>-0.208563</td>\n",
       "      <td>-0.208563</td>\n",
       "      <td>-0.208563</td>\n",
       "      <td>18.240033</td>\n",
       "      <td>18.240033</td>\n",
       "      <td>18.240033</td>\n",
       "      <td>0.0</td>\n",
       "      <td>0.0</td>\n",
       "      <td>0.0</td>\n",
       "      <td>2197.490431</td>\n",
       "    </tr>\n",
       "    <tr>\n",
       "      <th>3</th>\n",
       "      <td>2006-12-19</td>\n",
       "      <td>1549.610088</td>\n",
       "      <td>1657.520208</td>\n",
       "      <td>1688.925817</td>\n",
       "      <td>1549.610088</td>\n",
       "      <td>1549.610088</td>\n",
       "      <td>4.024572</td>\n",
       "      <td>4.024572</td>\n",
       "      <td>4.024572</td>\n",
       "      <td>-0.044061</td>\n",
       "      <td>...</td>\n",
       "      <td>-1.537531</td>\n",
       "      <td>-1.537531</td>\n",
       "      <td>-1.537531</td>\n",
       "      <td>18.994510</td>\n",
       "      <td>18.994510</td>\n",
       "      <td>18.994510</td>\n",
       "      <td>0.0</td>\n",
       "      <td>0.0</td>\n",
       "      <td>0.0</td>\n",
       "      <td>1672.880615</td>\n",
       "    </tr>\n",
       "    <tr>\n",
       "      <th>4</th>\n",
       "      <td>2006-12-20</td>\n",
       "      <td>1549.680583</td>\n",
       "      <td>2201.650151</td>\n",
       "      <td>2233.312163</td>\n",
       "      <td>1549.680583</td>\n",
       "      <td>1549.680583</td>\n",
       "      <td>2.299508</td>\n",
       "      <td>2.299508</td>\n",
       "      <td>2.299508</td>\n",
       "      <td>-0.048724</td>\n",
       "      <td>...</td>\n",
       "      <td>1.261968</td>\n",
       "      <td>1.261968</td>\n",
       "      <td>1.261968</td>\n",
       "      <td>19.669684</td>\n",
       "      <td>19.669684</td>\n",
       "      <td>19.669684</td>\n",
       "      <td>0.0</td>\n",
       "      <td>0.0</td>\n",
       "      <td>0.0</td>\n",
       "      <td>2217.797770</td>\n",
       "    </tr>\n",
       "  </tbody>\n",
       "</table>\n",
       "<p>5 rows × 40 columns</p>\n",
       "</div>"
      ],
      "text/plain": [
       "          ds        trend   yhat_lower   yhat_upper  trend_lower  trend_upper  \\\n",
       "0 2006-12-16  1549.398603  1226.515652  1258.514183  1549.398603  1549.398603   \n",
       "1 2006-12-17  1549.469098  3393.735181  3426.039286  1549.469098  1549.469098   \n",
       "2 2006-12-18  1549.539593  2180.609874  2214.424569  1549.539593  1549.539593   \n",
       "3 2006-12-19  1549.610088  1657.520208  1688.925817  1549.610088  1549.610088   \n",
       "4 2006-12-20  1549.680583  2201.650151  2233.312163  1549.680583  1549.680583   \n",
       "\n",
       "        add1  add1_lower  add1_upper      add2  ...    weekly  weekly_lower  \\\n",
       "0  23.927307   23.927307   23.927307  2.629798  ...  0.802552      0.802552   \n",
       "1  -8.852336   -8.852336   -8.852336 -0.015178  ...  0.161787      0.161787   \n",
       "2   2.163301    2.163301    2.163301 -0.032467  ... -0.208563     -0.208563   \n",
       "3   4.024572    4.024572    4.024572 -0.044061  ... -1.537531     -1.537531   \n",
       "4   2.299508    2.299508    2.299508 -0.048724  ...  1.261968      1.261968   \n",
       "\n",
       "   weekly_upper     yearly  yearly_lower  yearly_upper  multiplicative_terms  \\\n",
       "0      0.802552  16.543715     16.543715     16.543715                   0.0   \n",
       "1      0.161787  17.418730     17.418730     17.418730                   0.0   \n",
       "2     -0.208563  18.240033     18.240033     18.240033                   0.0   \n",
       "3     -1.537531  18.994510     18.994510     18.994510                   0.0   \n",
       "4      1.261968  19.669684     19.669684     19.669684                   0.0   \n",
       "\n",
       "   multiplicative_terms_lower  multiplicative_terms_upper         yhat  \n",
       "0                         0.0                         0.0  1242.566075  \n",
       "1                         0.0                         0.0  3409.683925  \n",
       "2                         0.0                         0.0  2197.490431  \n",
       "3                         0.0                         0.0  1672.880615  \n",
       "4                         0.0                         0.0  2217.797770  \n",
       "\n",
       "[5 rows x 40 columns]"
      ]
     },
     "execution_count": 67,
     "metadata": {},
     "output_type": "execute_result"
    }
   ],
   "source": [
    "forecast_2 = model2.predict(future_2) \n",
    "forecast_2.head()"
   ]
  },
  {
   "cell_type": "code",
   "execution_count": 68,
   "metadata": {},
   "outputs": [
    {
     "data": {
      "text/html": [
       "<div>\n",
       "<style scoped>\n",
       "    .dataframe tbody tr th:only-of-type {\n",
       "        vertical-align: middle;\n",
       "    }\n",
       "\n",
       "    .dataframe tbody tr th {\n",
       "        vertical-align: top;\n",
       "    }\n",
       "\n",
       "    .dataframe thead th {\n",
       "        text-align: right;\n",
       "    }\n",
       "</style>\n",
       "<table border=\"1\" class=\"dataframe\">\n",
       "  <thead>\n",
       "    <tr style=\"text-align: right;\">\n",
       "      <th></th>\n",
       "      <th>ds</th>\n",
       "      <th>yhat</th>\n",
       "      <th>yhat_lower</th>\n",
       "      <th>yhat_upper</th>\n",
       "      <th>trend</th>\n",
       "      <th>trend_lower</th>\n",
       "      <th>trend_upper</th>\n",
       "    </tr>\n",
       "  </thead>\n",
       "  <tbody>\n",
       "    <tr>\n",
       "      <th>0</th>\n",
       "      <td>2006-12-16</td>\n",
       "      <td>1242.566075</td>\n",
       "      <td>1226.515652</td>\n",
       "      <td>1258.514183</td>\n",
       "      <td>1549.398603</td>\n",
       "      <td>1549.398603</td>\n",
       "      <td>1549.398603</td>\n",
       "    </tr>\n",
       "    <tr>\n",
       "      <th>1</th>\n",
       "      <td>2006-12-17</td>\n",
       "      <td>3409.683925</td>\n",
       "      <td>3393.735181</td>\n",
       "      <td>3426.039286</td>\n",
       "      <td>1549.469098</td>\n",
       "      <td>1549.469098</td>\n",
       "      <td>1549.469098</td>\n",
       "    </tr>\n",
       "    <tr>\n",
       "      <th>2</th>\n",
       "      <td>2006-12-18</td>\n",
       "      <td>2197.490431</td>\n",
       "      <td>2180.609874</td>\n",
       "      <td>2214.424569</td>\n",
       "      <td>1549.539593</td>\n",
       "      <td>1549.539593</td>\n",
       "      <td>1549.539593</td>\n",
       "    </tr>\n",
       "    <tr>\n",
       "      <th>3</th>\n",
       "      <td>2006-12-19</td>\n",
       "      <td>1672.880615</td>\n",
       "      <td>1657.520208</td>\n",
       "      <td>1688.925817</td>\n",
       "      <td>1549.610088</td>\n",
       "      <td>1549.610088</td>\n",
       "      <td>1549.610088</td>\n",
       "    </tr>\n",
       "    <tr>\n",
       "      <th>4</th>\n",
       "      <td>2006-12-20</td>\n",
       "      <td>2217.797770</td>\n",
       "      <td>2201.650151</td>\n",
       "      <td>2233.312163</td>\n",
       "      <td>1549.680583</td>\n",
       "      <td>1549.680583</td>\n",
       "      <td>1549.680583</td>\n",
       "    </tr>\n",
       "    <tr>\n",
       "      <th>...</th>\n",
       "      <td>...</td>\n",
       "      <td>...</td>\n",
       "      <td>...</td>\n",
       "      <td>...</td>\n",
       "      <td>...</td>\n",
       "      <td>...</td>\n",
       "      <td>...</td>\n",
       "    </tr>\n",
       "    <tr>\n",
       "      <th>1437</th>\n",
       "      <td>2010-11-22</td>\n",
       "      <td>2115.725166</td>\n",
       "      <td>1833.658986</td>\n",
       "      <td>2420.727275</td>\n",
       "      <td>1630.583985</td>\n",
       "      <td>1350.572281</td>\n",
       "      <td>1928.016425</td>\n",
       "    </tr>\n",
       "    <tr>\n",
       "      <th>1438</th>\n",
       "      <td>2010-11-23</td>\n",
       "      <td>1657.522291</td>\n",
       "      <td>1375.145624</td>\n",
       "      <td>1953.750620</td>\n",
       "      <td>1630.703261</td>\n",
       "      <td>1349.261254</td>\n",
       "      <td>1929.187926</td>\n",
       "    </tr>\n",
       "    <tr>\n",
       "      <th>1439</th>\n",
       "      <td>2010-11-24</td>\n",
       "      <td>1864.981839</td>\n",
       "      <td>1580.954998</td>\n",
       "      <td>2163.310094</td>\n",
       "      <td>1630.822537</td>\n",
       "      <td>1348.463687</td>\n",
       "      <td>1930.721341</td>\n",
       "    </tr>\n",
       "    <tr>\n",
       "      <th>1440</th>\n",
       "      <td>2010-11-25</td>\n",
       "      <td>1487.298716</td>\n",
       "      <td>1204.792225</td>\n",
       "      <td>1787.604128</td>\n",
       "      <td>1630.941813</td>\n",
       "      <td>1348.623793</td>\n",
       "      <td>1932.059918</td>\n",
       "    </tr>\n",
       "    <tr>\n",
       "      <th>1441</th>\n",
       "      <td>2010-11-26</td>\n",
       "      <td>1555.615766</td>\n",
       "      <td>1271.665893</td>\n",
       "      <td>1853.979813</td>\n",
       "      <td>1631.061089</td>\n",
       "      <td>1348.783898</td>\n",
       "      <td>1933.430461</td>\n",
       "    </tr>\n",
       "  </tbody>\n",
       "</table>\n",
       "<p>1442 rows × 7 columns</p>\n",
       "</div>"
      ],
      "text/plain": [
       "             ds         yhat   yhat_lower   yhat_upper        trend  \\\n",
       "0    2006-12-16  1242.566075  1226.515652  1258.514183  1549.398603   \n",
       "1    2006-12-17  3409.683925  3393.735181  3426.039286  1549.469098   \n",
       "2    2006-12-18  2197.490431  2180.609874  2214.424569  1549.539593   \n",
       "3    2006-12-19  1672.880615  1657.520208  1688.925817  1549.610088   \n",
       "4    2006-12-20  2217.797770  2201.650151  2233.312163  1549.680583   \n",
       "...         ...          ...          ...          ...          ...   \n",
       "1437 2010-11-22  2115.725166  1833.658986  2420.727275  1630.583985   \n",
       "1438 2010-11-23  1657.522291  1375.145624  1953.750620  1630.703261   \n",
       "1439 2010-11-24  1864.981839  1580.954998  2163.310094  1630.822537   \n",
       "1440 2010-11-25  1487.298716  1204.792225  1787.604128  1630.941813   \n",
       "1441 2010-11-26  1555.615766  1271.665893  1853.979813  1631.061089   \n",
       "\n",
       "      trend_lower  trend_upper  \n",
       "0     1549.398603  1549.398603  \n",
       "1     1549.469098  1549.469098  \n",
       "2     1549.539593  1549.539593  \n",
       "3     1549.610088  1549.610088  \n",
       "4     1549.680583  1549.680583  \n",
       "...           ...          ...  \n",
       "1437  1350.572281  1928.016425  \n",
       "1438  1349.261254  1929.187926  \n",
       "1439  1348.463687  1930.721341  \n",
       "1440  1348.623793  1932.059918  \n",
       "1441  1348.783898  1933.430461  \n",
       "\n",
       "[1442 rows x 7 columns]"
      ]
     },
     "execution_count": 68,
     "metadata": {},
     "output_type": "execute_result"
    }
   ],
   "source": [
    "forecast_2[['ds', 'yhat', 'yhat_lower', 'yhat_upper', 'trend', 'trend_lower', 'trend_upper']]"
   ]
  },
  {
   "cell_type": "code",
   "execution_count": 69,
   "metadata": {},
   "outputs": [],
   "source": [
    "DF_test2_val = DF_test2['y']\n",
    "pred_2 = forecast_2['yhat'][-365:]"
   ]
  },
  {
   "cell_type": "code",
   "execution_count": 71,
   "metadata": {},
   "outputs": [
    {
     "name": "stdout",
     "output_type": "stream",
     "text": [
      "MAPE prediction:  inf\n"
     ]
    },
    {
     "name": "stderr",
     "output_type": "stream",
     "text": [
      "C:\\Users\\HP\\anaconda3\\lib\\site-packages\\ipykernel_launcher.py:3: RuntimeWarning: divide by zero encountered in true_divide\n",
      "  This is separate from the ipykernel package so we can avoid doing imports until\n"
     ]
    }
   ],
   "source": [
    "PREDICT2 = mape(DF_test2_val, pred_2)\n",
    "print('MAPE prediction: ', round(PREDICT2, 2))"
   ]
  },
  {
   "cell_type": "code",
   "execution_count": 72,
   "metadata": {},
   "outputs": [
    {
     "name": "stdout",
     "output_type": "stream",
     "text": [
      "RMSE prediction:  39.18\n"
     ]
    }
   ],
   "source": [
    "pred_2_mse = mean_squared_error(DF_test2_val, pred_2)\n",
    "pred_2_rmse = np.sqrt(pred_2_mse)\n",
    "print('RMSE prediction: ', round(pred_2_rmse, 2))"
   ]
  },
  {
   "cell_type": "code",
   "execution_count": 74,
   "metadata": {},
   "outputs": [
    {
     "data": {
      "image/png": "[encoded data removed]",
      "text/plain": [
       "<Figure size 648x864 with 4 Axes>"
      ]
     },
     "metadata": {},
     "output_type": "display_data"
    }
   ],
   "source": [
    "model2.plot_components(forecast_2)\n",
    "plt.show()"
   ]
  }
 ],
 "metadata": {
  "kernelspec": {
   "display_name": "Python 3",
   "language": "python",
   "name": "python3"
  },
  "language_info": {
   "codemirror_mode": {
    "name": "ipython",
    "version": 3
   },
   "file_extension": ".py",
   "mimetype": "text/x-python",
   "name": "python",
   "nbconvert_exporter": "python",
   "pygments_lexer": "ipython3",
   "version": "3.7.6"
  }
 },
 "nbformat": 4,
 "nbformat_minor": 4
}
